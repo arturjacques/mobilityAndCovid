{
 "cells": [
  {
   "cell_type": "markdown",
   "metadata": {},
   "source": [
    "### This notebook is an informal study of the correlation between mobility for each state and COVID cases. The intention is only to practice the use of tools for data analysis. A real analysis of the situation must be done by an epidemiologist."
   ]
  },
  {
   "cell_type": "code",
   "execution_count": 1,
   "metadata": {},
   "outputs": [],
   "source": [
    "import pandas as pd\n",
    "import numpy as np\n",
    "import matplotlib.pyplot as plt\n",
    "from datetime import datetime\n",
    "from datetime import timedelta "
   ]
  },
  {
   "cell_type": "markdown",
   "metadata": {},
   "source": [
    "### loading and cleaning Global_Mobilty_report.csv"
   ]
  },
  {
   "cell_type": "code",
   "execution_count": 2,
   "metadata": {},
   "outputs": [],
   "source": [
    "globalMobility = pd.read_csv('Global_Mobility_Report.csv', low_memory = False)"
   ]
  },
  {
   "cell_type": "code",
   "execution_count": 3,
   "metadata": {},
   "outputs": [
    {
     "data": {
      "text/html": [
       "<div>\n",
       "<style scoped>\n",
       "    .dataframe tbody tr th:only-of-type {\n",
       "        vertical-align: middle;\n",
       "    }\n",
       "\n",
       "    .dataframe tbody tr th {\n",
       "        vertical-align: top;\n",
       "    }\n",
       "\n",
       "    .dataframe thead th {\n",
       "        text-align: right;\n",
       "    }\n",
       "</style>\n",
       "<table border=\"1\" class=\"dataframe\">\n",
       "  <thead>\n",
       "    <tr style=\"text-align: right;\">\n",
       "      <th></th>\n",
       "      <th>country_region_code</th>\n",
       "      <th>country_region</th>\n",
       "      <th>sub_region_1</th>\n",
       "      <th>sub_region_2</th>\n",
       "      <th>date</th>\n",
       "      <th>retail_and_recreation_percent_change_from_baseline</th>\n",
       "      <th>grocery_and_pharmacy_percent_change_from_baseline</th>\n",
       "      <th>parks_percent_change_from_baseline</th>\n",
       "      <th>transit_stations_percent_change_from_baseline</th>\n",
       "      <th>workplaces_percent_change_from_baseline</th>\n",
       "      <th>residential_percent_change_from_baseline</th>\n",
       "    </tr>\n",
       "  </thead>\n",
       "  <tbody>\n",
       "    <tr>\n",
       "      <th>0</th>\n",
       "      <td>AE</td>\n",
       "      <td>United Arab Emirates</td>\n",
       "      <td>NaN</td>\n",
       "      <td>NaN</td>\n",
       "      <td>2020-02-15</td>\n",
       "      <td>0.0</td>\n",
       "      <td>4.0</td>\n",
       "      <td>5.0</td>\n",
       "      <td>0.0</td>\n",
       "      <td>2.0</td>\n",
       "      <td>1.0</td>\n",
       "    </tr>\n",
       "    <tr>\n",
       "      <th>1</th>\n",
       "      <td>AE</td>\n",
       "      <td>United Arab Emirates</td>\n",
       "      <td>NaN</td>\n",
       "      <td>NaN</td>\n",
       "      <td>2020-02-16</td>\n",
       "      <td>1.0</td>\n",
       "      <td>4.0</td>\n",
       "      <td>4.0</td>\n",
       "      <td>1.0</td>\n",
       "      <td>2.0</td>\n",
       "      <td>1.0</td>\n",
       "    </tr>\n",
       "    <tr>\n",
       "      <th>2</th>\n",
       "      <td>AE</td>\n",
       "      <td>United Arab Emirates</td>\n",
       "      <td>NaN</td>\n",
       "      <td>NaN</td>\n",
       "      <td>2020-02-17</td>\n",
       "      <td>-1.0</td>\n",
       "      <td>1.0</td>\n",
       "      <td>5.0</td>\n",
       "      <td>1.0</td>\n",
       "      <td>2.0</td>\n",
       "      <td>1.0</td>\n",
       "    </tr>\n",
       "    <tr>\n",
       "      <th>3</th>\n",
       "      <td>AE</td>\n",
       "      <td>United Arab Emirates</td>\n",
       "      <td>NaN</td>\n",
       "      <td>NaN</td>\n",
       "      <td>2020-02-18</td>\n",
       "      <td>-2.0</td>\n",
       "      <td>1.0</td>\n",
       "      <td>5.0</td>\n",
       "      <td>0.0</td>\n",
       "      <td>2.0</td>\n",
       "      <td>1.0</td>\n",
       "    </tr>\n",
       "    <tr>\n",
       "      <th>4</th>\n",
       "      <td>AE</td>\n",
       "      <td>United Arab Emirates</td>\n",
       "      <td>NaN</td>\n",
       "      <td>NaN</td>\n",
       "      <td>2020-02-19</td>\n",
       "      <td>-2.0</td>\n",
       "      <td>0.0</td>\n",
       "      <td>4.0</td>\n",
       "      <td>-1.0</td>\n",
       "      <td>2.0</td>\n",
       "      <td>1.0</td>\n",
       "    </tr>\n",
       "  </tbody>\n",
       "</table>\n",
       "</div>"
      ],
      "text/plain": [
       "  country_region_code        country_region sub_region_1 sub_region_2  \\\n",
       "0                  AE  United Arab Emirates          NaN          NaN   \n",
       "1                  AE  United Arab Emirates          NaN          NaN   \n",
       "2                  AE  United Arab Emirates          NaN          NaN   \n",
       "3                  AE  United Arab Emirates          NaN          NaN   \n",
       "4                  AE  United Arab Emirates          NaN          NaN   \n",
       "\n",
       "         date  retail_and_recreation_percent_change_from_baseline  \\\n",
       "0  2020-02-15                                                0.0    \n",
       "1  2020-02-16                                                1.0    \n",
       "2  2020-02-17                                               -1.0    \n",
       "3  2020-02-18                                               -2.0    \n",
       "4  2020-02-19                                               -2.0    \n",
       "\n",
       "   grocery_and_pharmacy_percent_change_from_baseline  \\\n",
       "0                                                4.0   \n",
       "1                                                4.0   \n",
       "2                                                1.0   \n",
       "3                                                1.0   \n",
       "4                                                0.0   \n",
       "\n",
       "   parks_percent_change_from_baseline  \\\n",
       "0                                 5.0   \n",
       "1                                 4.0   \n",
       "2                                 5.0   \n",
       "3                                 5.0   \n",
       "4                                 4.0   \n",
       "\n",
       "   transit_stations_percent_change_from_baseline  \\\n",
       "0                                            0.0   \n",
       "1                                            1.0   \n",
       "2                                            1.0   \n",
       "3                                            0.0   \n",
       "4                                           -1.0   \n",
       "\n",
       "   workplaces_percent_change_from_baseline  \\\n",
       "0                                      2.0   \n",
       "1                                      2.0   \n",
       "2                                      2.0   \n",
       "3                                      2.0   \n",
       "4                                      2.0   \n",
       "\n",
       "   residential_percent_change_from_baseline  \n",
       "0                                       1.0  \n",
       "1                                       1.0  \n",
       "2                                       1.0  \n",
       "3                                       1.0  \n",
       "4                                       1.0  "
      ]
     },
     "execution_count": 3,
     "metadata": {},
     "output_type": "execute_result"
    }
   ],
   "source": [
    "globalMobility.head()"
   ]
  },
  {
   "cell_type": "code",
   "execution_count": 4,
   "metadata": {},
   "outputs": [
    {
     "name": "stdout",
     "output_type": "stream",
     "text": [
      "<class 'pandas.core.frame.DataFrame'>\n",
      "RangeIndex: 458565 entries, 0 to 458564\n",
      "Data columns (total 11 columns):\n",
      " #   Column                                              Non-Null Count   Dtype  \n",
      "---  ------                                              --------------   -----  \n",
      " 0   country_region_code                                 457777 non-null  object \n",
      " 1   country_region                                      458565 non-null  object \n",
      " 2   sub_region_1                                        445233 non-null  object \n",
      " 3   sub_region_2                                        265611 non-null  object \n",
      " 4   date                                                458565 non-null  object \n",
      " 5   retail_and_recreation_percent_change_from_baseline  358425 non-null  float64\n",
      " 6   grocery_and_pharmacy_percent_change_from_baseline   345821 non-null  float64\n",
      " 7   parks_percent_change_from_baseline                  212781 non-null  float64\n",
      " 8   transit_stations_percent_change_from_baseline       244044 non-null  float64\n",
      " 9   workplaces_percent_change_from_baseline             445735 non-null  float64\n",
      " 10  residential_percent_change_from_baseline            251216 non-null  float64\n",
      "dtypes: float64(6), object(5)\n",
      "memory usage: 38.5+ MB\n"
     ]
    }
   ],
   "source": [
    "globalMobility.info()"
   ]
  },
  {
   "cell_type": "code",
   "execution_count": 5,
   "metadata": {},
   "outputs": [],
   "source": [
    "# selecting only the data of Brazil\n",
    "mobilityBr = globalMobility[globalMobility.country_region_code == 'BR']\n",
    "\n",
    "# removing globalMobility from the memory\n",
    "del globalMobility \n",
    "\n",
    "# removing columns of country from the data frame after selection\n",
    "mobilityBr.drop(['country_region_code', 'country_region'], inplace = True, axis = 1)"
   ]
  },
  {
   "cell_type": "code",
   "execution_count": 6,
   "metadata": {},
   "outputs": [
    {
     "name": "stdout",
     "output_type": "stream",
     "text": [
      "<class 'pandas.core.frame.DataFrame'>\n",
      "Int64Index: 2828 entries, 12791 to 15618\n",
      "Data columns (total 9 columns):\n",
      " #   Column                                              Non-Null Count  Dtype  \n",
      "---  ------                                              --------------  -----  \n",
      " 0   sub_region_1                                        2727 non-null   object \n",
      " 1   sub_region_2                                        0 non-null      object \n",
      " 2   date                                                2828 non-null   object \n",
      " 3   retail_and_recreation_percent_change_from_baseline  2828 non-null   float64\n",
      " 4   grocery_and_pharmacy_percent_change_from_baseline   2828 non-null   float64\n",
      " 5   parks_percent_change_from_baseline                  2828 non-null   float64\n",
      " 6   transit_stations_percent_change_from_baseline       2828 non-null   float64\n",
      " 7   workplaces_percent_change_from_baseline             2828 non-null   float64\n",
      " 8   residential_percent_change_from_baseline            2828 non-null   float64\n",
      "dtypes: float64(6), object(3)\n",
      "memory usage: 220.9+ KB\n"
     ]
    }
   ],
   "source": [
    "mobilityBr.info()"
   ]
  },
  {
   "cell_type": "markdown",
   "metadata": {},
   "source": [
    "sub_region_1 refers to the state of Brasil and sub_region_2 for brasil do not have data."
   ]
  },
  {
   "cell_type": "code",
   "execution_count": 7,
   "metadata": {},
   "outputs": [],
   "source": [
    "# changing the name of the sub_region_1 column to state\n",
    "mobilityBr.rename({'sub_region_1':'state'}, axis = 1, inplace = True)\n",
    "\n",
    "# removing column empty\n",
    "mobilityBr.drop(['sub_region_2'], axis = 1, inplace = True)"
   ]
  },
  {
   "cell_type": "markdown",
   "metadata": {},
   "source": [
    "The covid data is using the state with the code so will be necessary convert the name of the state to the code"
   ]
  },
  {
   "cell_type": "code",
   "execution_count": 8,
   "metadata": {},
   "outputs": [],
   "source": [
    "states = {'Acre':  'AC', 'Alagoas' : 'AL', 'Amapá' : 'AP',\n",
    "          'Amazonas':'AM', 'Bahia':'BA', 'Ceará':'CE',\n",
    "          'Federal District':'DF', 'Espírito Santo':'ES', 'Goiás':'GO',\n",
    "          'Maranhão':'MA', 'Mato Grosso':'MT', 'Mato Grosso do Sul':'MS',\n",
    "          'Minas Gerais':'MG','Pará':'PA','Paraíba':'PB','Paraná':'PR',\n",
    "          'Pernambuco':'PE','Piauí':'PI','Rio de Janeiro':'RJ',\n",
    "          'Rio Grande do Norte':'RN','Rio Grande do Sul':'RS','Rondônia':'RO',\n",
    "          'Roraima':'RR','Santa Catarina':'SC','São Paulo':'SP',\n",
    "          'Sergipe':'SE','Tocantins':'TO'}"
   ]
  },
  {
   "cell_type": "code",
   "execution_count": 9,
   "metadata": {
    "scrolled": true
   },
   "outputs": [],
   "source": [
    "mobilityBr['state'] = mobilityBr.state.str.replace('State of ', '').map(states)"
   ]
  },
  {
   "cell_type": "code",
   "execution_count": 10,
   "metadata": {
    "scrolled": true
   },
   "outputs": [
    {
     "name": "stdout",
     "output_type": "stream",
     "text": [
      "<class 'pandas.core.frame.DataFrame'>\n",
      "Int64Index: 2828 entries, 12791 to 15618\n",
      "Data columns (total 8 columns):\n",
      " #   Column                                              Non-Null Count  Dtype  \n",
      "---  ------                                              --------------  -----  \n",
      " 0   state                                               2727 non-null   object \n",
      " 1   date                                                2828 non-null   object \n",
      " 2   retail_and_recreation_percent_change_from_baseline  2828 non-null   float64\n",
      " 3   grocery_and_pharmacy_percent_change_from_baseline   2828 non-null   float64\n",
      " 4   parks_percent_change_from_baseline                  2828 non-null   float64\n",
      " 5   transit_stations_percent_change_from_baseline       2828 non-null   float64\n",
      " 6   workplaces_percent_change_from_baseline             2828 non-null   float64\n",
      " 7   residential_percent_change_from_baseline            2828 non-null   float64\n",
      "dtypes: float64(6), object(2)\n",
      "memory usage: 198.8+ KB\n"
     ]
    }
   ],
   "source": [
    "mobilityBr.info()"
   ]
  },
  {
   "cell_type": "code",
   "execution_count": 11,
   "metadata": {
    "scrolled": true
   },
   "outputs": [
    {
     "data": {
      "text/plain": [
       "0"
      ]
     },
     "execution_count": 11,
     "metadata": {},
     "output_type": "execute_result"
    }
   ],
   "source": [
    "# checking duplicates\n",
    "len(mobilityBr[mobilityBr.duplicated(subset = ['date', 'state'])])"
   ]
  },
  {
   "cell_type": "markdown",
   "metadata": {},
   "source": [
    "There is note data of the same data of the same state"
   ]
  },
  {
   "cell_type": "markdown",
   "metadata": {},
   "source": [
    "The data of covid have a delay related to the data of mobility. The people that are contamined today will be diagnosticade only after a week at least "
   ]
  },
  {
   "cell_type": "code",
   "execution_count": 12,
   "metadata": {},
   "outputs": [],
   "source": [
    "# that will be created a column called data_affected that effect the data of covid\n",
    "mobilityBr['data_affected'] = mobilityBr.date.apply(lambda x: datetime.strptime(x, '%Y-%m-%d') + timedelta(days = 7))"
   ]
  },
  {
   "cell_type": "markdown",
   "metadata": {},
   "source": [
    "### loading and cleaning covid19-BR.csv"
   ]
  },
  {
   "cell_type": "code",
   "execution_count": 13,
   "metadata": {},
   "outputs": [],
   "source": [
    "covidBr = pd.read_csv('covid19-BR.csv')"
   ]
  },
  {
   "cell_type": "code",
   "execution_count": 14,
   "metadata": {},
   "outputs": [
    {
     "name": "stdout",
     "output_type": "stream",
     "text": [
      "<class 'pandas.core.frame.DataFrame'>\n",
      "RangeIndex: 149829 entries, 0 to 149828\n",
      "Data columns (total 16 columns):\n",
      " #   Column                                         Non-Null Count   Dtype  \n",
      "---  ------                                         --------------   -----  \n",
      " 0   epidemiological_week                           149829 non-null  int64  \n",
      " 1   date                                           149829 non-null  object \n",
      " 2   order_for_place                                149829 non-null  int64  \n",
      " 3   state                                          149829 non-null  object \n",
      " 4   city                                           147638 non-null  object \n",
      " 5   city_ibge_code                                 148627 non-null  float64\n",
      " 6   place_type                                     149829 non-null  object \n",
      " 7   last_available_confirmed                       149829 non-null  int64  \n",
      " 8   last_available_confirmed_per_100k_inhabitants  144778 non-null  float64\n",
      " 9   new_confirmed                                  149829 non-null  int64  \n",
      " 10  last_available_deaths                          149829 non-null  int64  \n",
      " 11  new_deaths                                     149829 non-null  int64  \n",
      " 12  last_available_death_rate                      149829 non-null  float64\n",
      " 13  estimated_population_2019                      148627 non-null  float64\n",
      " 14  is_last                                        149829 non-null  bool   \n",
      " 15  is_repeated                                    149829 non-null  bool   \n",
      "dtypes: bool(2), float64(4), int64(6), object(4)\n",
      "memory usage: 16.3+ MB\n"
     ]
    }
   ],
   "source": [
    "covidBr.info()"
   ]
  },
  {
   "cell_type": "code",
   "execution_count": 15,
   "metadata": {},
   "outputs": [
    {
     "data": {
      "text/html": [
       "<div>\n",
       "<style scoped>\n",
       "    .dataframe tbody tr th:only-of-type {\n",
       "        vertical-align: middle;\n",
       "    }\n",
       "\n",
       "    .dataframe tbody tr th {\n",
       "        vertical-align: top;\n",
       "    }\n",
       "\n",
       "    .dataframe thead th {\n",
       "        text-align: right;\n",
       "    }\n",
       "</style>\n",
       "<table border=\"1\" class=\"dataframe\">\n",
       "  <thead>\n",
       "    <tr style=\"text-align: right;\">\n",
       "      <th></th>\n",
       "      <th>epidemiological_week</th>\n",
       "      <th>date</th>\n",
       "      <th>order_for_place</th>\n",
       "      <th>state</th>\n",
       "      <th>city</th>\n",
       "      <th>city_ibge_code</th>\n",
       "      <th>place_type</th>\n",
       "      <th>last_available_confirmed</th>\n",
       "      <th>last_available_confirmed_per_100k_inhabitants</th>\n",
       "      <th>new_confirmed</th>\n",
       "      <th>last_available_deaths</th>\n",
       "      <th>new_deaths</th>\n",
       "      <th>last_available_death_rate</th>\n",
       "      <th>estimated_population_2019</th>\n",
       "      <th>is_last</th>\n",
       "      <th>is_repeated</th>\n",
       "    </tr>\n",
       "  </thead>\n",
       "  <tbody>\n",
       "    <tr>\n",
       "      <th>0</th>\n",
       "      <td>23</td>\n",
       "      <td>2020-06-01</td>\n",
       "      <td>65</td>\n",
       "      <td>AC</td>\n",
       "      <td>Acrelândia</td>\n",
       "      <td>1200013.0</td>\n",
       "      <td>city</td>\n",
       "      <td>158</td>\n",
       "      <td>1035.65810</td>\n",
       "      <td>0</td>\n",
       "      <td>1</td>\n",
       "      <td>0</td>\n",
       "      <td>0.0063</td>\n",
       "      <td>15256.0</td>\n",
       "      <td>True</td>\n",
       "      <td>False</td>\n",
       "    </tr>\n",
       "    <tr>\n",
       "      <th>1</th>\n",
       "      <td>23</td>\n",
       "      <td>2020-06-01</td>\n",
       "      <td>32</td>\n",
       "      <td>AC</td>\n",
       "      <td>Assis Brasil</td>\n",
       "      <td>1200054.0</td>\n",
       "      <td>city</td>\n",
       "      <td>28</td>\n",
       "      <td>377.51112</td>\n",
       "      <td>1</td>\n",
       "      <td>2</td>\n",
       "      <td>0</td>\n",
       "      <td>0.0714</td>\n",
       "      <td>7417.0</td>\n",
       "      <td>True</td>\n",
       "      <td>False</td>\n",
       "    </tr>\n",
       "    <tr>\n",
       "      <th>2</th>\n",
       "      <td>23</td>\n",
       "      <td>2020-06-01</td>\n",
       "      <td>24</td>\n",
       "      <td>AC</td>\n",
       "      <td>Brasiléia</td>\n",
       "      <td>1200104.0</td>\n",
       "      <td>city</td>\n",
       "      <td>38</td>\n",
       "      <td>144.60766</td>\n",
       "      <td>1</td>\n",
       "      <td>2</td>\n",
       "      <td>0</td>\n",
       "      <td>0.0526</td>\n",
       "      <td>26278.0</td>\n",
       "      <td>True</td>\n",
       "      <td>False</td>\n",
       "    </tr>\n",
       "    <tr>\n",
       "      <th>3</th>\n",
       "      <td>23</td>\n",
       "      <td>2020-06-01</td>\n",
       "      <td>55</td>\n",
       "      <td>AC</td>\n",
       "      <td>Bujari</td>\n",
       "      <td>1200138.0</td>\n",
       "      <td>city</td>\n",
       "      <td>49</td>\n",
       "      <td>477.30372</td>\n",
       "      <td>0</td>\n",
       "      <td>2</td>\n",
       "      <td>0</td>\n",
       "      <td>0.0408</td>\n",
       "      <td>10266.0</td>\n",
       "      <td>True</td>\n",
       "      <td>False</td>\n",
       "    </tr>\n",
       "    <tr>\n",
       "      <th>4</th>\n",
       "      <td>23</td>\n",
       "      <td>2020-06-01</td>\n",
       "      <td>25</td>\n",
       "      <td>AC</td>\n",
       "      <td>Capixaba</td>\n",
       "      <td>1200179.0</td>\n",
       "      <td>city</td>\n",
       "      <td>40</td>\n",
       "      <td>340.91878</td>\n",
       "      <td>0</td>\n",
       "      <td>1</td>\n",
       "      <td>0</td>\n",
       "      <td>0.0250</td>\n",
       "      <td>11733.0</td>\n",
       "      <td>True</td>\n",
       "      <td>False</td>\n",
       "    </tr>\n",
       "  </tbody>\n",
       "</table>\n",
       "</div>"
      ],
      "text/plain": [
       "   epidemiological_week        date  order_for_place state          city  \\\n",
       "0                    23  2020-06-01               65    AC    Acrelândia   \n",
       "1                    23  2020-06-01               32    AC  Assis Brasil   \n",
       "2                    23  2020-06-01               24    AC     Brasiléia   \n",
       "3                    23  2020-06-01               55    AC        Bujari   \n",
       "4                    23  2020-06-01               25    AC      Capixaba   \n",
       "\n",
       "   city_ibge_code place_type  last_available_confirmed  \\\n",
       "0       1200013.0       city                       158   \n",
       "1       1200054.0       city                        28   \n",
       "2       1200104.0       city                        38   \n",
       "3       1200138.0       city                        49   \n",
       "4       1200179.0       city                        40   \n",
       "\n",
       "   last_available_confirmed_per_100k_inhabitants  new_confirmed  \\\n",
       "0                                     1035.65810              0   \n",
       "1                                      377.51112              1   \n",
       "2                                      144.60766              1   \n",
       "3                                      477.30372              0   \n",
       "4                                      340.91878              0   \n",
       "\n",
       "   last_available_deaths  new_deaths  last_available_death_rate  \\\n",
       "0                      1           0                     0.0063   \n",
       "1                      2           0                     0.0714   \n",
       "2                      2           0                     0.0526   \n",
       "3                      2           0                     0.0408   \n",
       "4                      1           0                     0.0250   \n",
       "\n",
       "   estimated_population_2019  is_last  is_repeated  \n",
       "0                    15256.0     True        False  \n",
       "1                     7417.0     True        False  \n",
       "2                    26278.0     True        False  \n",
       "3                    10266.0     True        False  \n",
       "4                    11733.0     True        False  "
      ]
     },
     "execution_count": 15,
     "metadata": {},
     "output_type": "execute_result"
    }
   ],
   "source": [
    "covidBr.head()"
   ]
  },
  {
   "cell_type": "code",
   "execution_count": 16,
   "metadata": {},
   "outputs": [],
   "source": [
    "# the data of mobility is only by state that is the sum of all cities of the state\n",
    "# the data about cities will be remove of the analysis\n",
    "covidBr = covidBr[covidBr.place_type == 'state']\n",
    "\n",
    "# only the data of states is been using so the columns city, city_ibge_code and place_type are unnecessary\n",
    "covidBr.drop(['city', 'city_ibge_code', 'place_type'], axis = 1, inplace = True)\n",
    "\n",
    "# is_last is only a column that shows if is the last data or not it can be droped\n",
    "covidBr.drop(['is_last'], axis = 1, inplace = True)"
   ]
  },
  {
   "cell_type": "code",
   "execution_count": 17,
   "metadata": {},
   "outputs": [],
   "source": [
    "# sorting the data frame and reseting the index\n",
    "covidBr = covidBr.sort_values(['state', 'date']).reset_index(drop = True)\n",
    "\n",
    "# converting date to datetime\n",
    "covidBr['date'] = covidBr.date.apply((lambda x: datetime.strptime(x, '%Y-%m-%d')))"
   ]
  },
  {
   "cell_type": "code",
   "execution_count": 18,
   "metadata": {
    "scrolled": true
   },
   "outputs": [
    {
     "data": {
      "text/plain": [
       "False    2111\n",
       "True       80\n",
       "Name: is_repeated, dtype: int64"
      ]
     },
     "execution_count": 18,
     "metadata": {},
     "output_type": "execute_result"
    }
   ],
   "source": [
    "# checking data that was not actualized\n",
    "covidBr.is_repeated.value_counts()"
   ]
  },
  {
   "cell_type": "markdown",
   "metadata": {},
   "source": [
    "Some days are not actualized that will not be a problem when group the data by week."
   ]
  },
  {
   "cell_type": "code",
   "execution_count": 19,
   "metadata": {},
   "outputs": [
    {
     "data": {
      "text/plain": [
       "0"
      ]
     },
     "execution_count": 19,
     "metadata": {},
     "output_type": "execute_result"
    }
   ],
   "source": [
    "# checking duplicates\n",
    "len(covidBr[covidBr.duplicated(subset = ['date', 'state'])])"
   ]
  },
  {
   "cell_type": "markdown",
   "metadata": {},
   "source": [
    "There is no data of the same date of the same state"
   ]
  },
  {
   "cell_type": "code",
   "execution_count": 20,
   "metadata": {},
   "outputs": [],
   "source": [
    "# the epidemiological week is defined by the start pandemic on Wuhan.\n",
    "# it is more useful define the epidemiological_week as the start on the state\n",
    "weekStart = covidBr[['epidemiological_week', 'state']].groupby('state').min().to_dict()['epidemiological_week']\n",
    "covidBr['epidemiological_week'] = covidBr[['epidemiological_week', 'state']].apply(lambda x: x['epidemiological_week'] - weekStart[x['state']], axis = 1)"
   ]
  },
  {
   "cell_type": "markdown",
   "metadata": {},
   "source": [
    "the increase in number of cases is a function of the number of active cases and the table do not have active cases. I will consider that after 21 days the cases recovered or died so I will consider inactive and actives will be the last_available_confirmed minus inactive"
   ]
  },
  {
   "cell_type": "code",
   "execution_count": 21,
   "metadata": {},
   "outputs": [],
   "source": [
    "state = covidBr.iloc[0].state\n",
    "newCases = list()\n",
    "\n",
    "for index ,row in covidBr.iterrows():\n",
    "    if row.state != state:\n",
    "        newCases = list()\n",
    "        state = row.state\n",
    "    if len(newCases) > 21:\n",
    "        covidBr.loc[index, 'inactives'] = sum(newCases[:-21])\n",
    "    else:\n",
    "        covidBr.loc[index, 'inactives'] = 0\n",
    "    newCases.append(row.new_confirmed)\n",
    "\n",
    "covidBr['actives'] = covidBr['last_available_confirmed'] - covidBr['inactives']"
   ]
  },
  {
   "cell_type": "markdown",
   "metadata": {},
   "source": [
    "### Merging data from mobility with data of covid"
   ]
  },
  {
   "cell_type": "code",
   "execution_count": 22,
   "metadata": {},
   "outputs": [],
   "source": [
    "covidMerged = covidBr.merge(mobilityBr, how = 'inner', left_on = ['date', 'state'], right_on = ['data_affected', 'state'])"
   ]
  },
  {
   "cell_type": "code",
   "execution_count": 23,
   "metadata": {},
   "outputs": [],
   "source": [
    "# grouping the data by week. The columns new_confirmed, new_deaths, actives and inactives need to be added by week\n",
    "covidGrouped = covidMerged[['state', 'epidemiological_week', 'new_confirmed', 'new_deaths', 'actives', 'inactives']].groupby(['state', 'epidemiological_week']).sum()\n",
    "# the colums last_available_confirmed, last_available_confirmed_per_100k_inhabitants and last_available_death_rate needs be taken the last\n",
    "covidGrouped = covidGrouped.merge(covidMerged[['state', 'epidemiological_week', 'last_available_confirmed', 'last_available_confirmed_per_100k_inhabitants', 'last_available_death_rate']].groupby(['state', 'epidemiological_week']).last(), how = 'left', right_index = True, left_index = True)\n",
    "# the colums of movimentation and population will be made an average\n",
    "covidGrouped = covidGrouped.merge(covidMerged[['state', 'epidemiological_week', 'retail_and_recreation_percent_change_from_baseline', 'grocery_and_pharmacy_percent_change_from_baseline', 'parks_percent_change_from_baseline', 'transit_stations_percent_change_from_baseline', 'workplaces_percent_change_from_baseline', 'residential_percent_change_from_baseline']].groupby(['state', 'epidemiological_week']).mean(), how = 'left', right_index = True, left_index = True)"
   ]
  },
  {
   "cell_type": "code",
   "execution_count": 24,
   "metadata": {},
   "outputs": [],
   "source": [
    "# adding a new column of the percentage increase of the number of cases from the next week\n",
    "covidGrouped['increase'] = covidGrouped[['new_confirmed', 'actives']]\\\n",
    ".apply(lambda x: (x['new_confirmed']/(x['actives'] - x['new_confirmed'])) if (x['actives'] - x['new_confirmed']) != 0 else np.NAN, axis = 1)"
   ]
  },
  {
   "cell_type": "code",
   "execution_count": 25,
   "metadata": {
    "scrolled": true
   },
   "outputs": [],
   "source": [
    "# the last week do not have all the days of the week so it is better remove\n",
    "remove = []\n",
    "\n",
    "for state in covidGrouped.index.levels[0]:\n",
    "    remove.append((state, covidGrouped.loc[state].index.max()))\n",
    "    \n",
    "covidGrouped.drop(remove, inplace = True)"
   ]
  },
  {
   "cell_type": "code",
   "execution_count": 26,
   "metadata": {},
   "outputs": [],
   "source": [
    "# importing libraries of machine learning\n",
    "from sklearn.metrics import r2_score"
   ]
  },
  {
   "cell_type": "code",
   "execution_count": 27,
   "metadata": {},
   "outputs": [],
   "source": [
    "corrDict = dict()\n",
    "mobilityColumns = ['retail_and_recreation_percent_change_from_baseline', 'grocery_and_pharmacy_percent_change_from_baseline', 'parks_percent_change_from_baseline', 'transit_stations_percent_change_from_baseline', 'workplaces_percent_change_from_baseline', 'residential_percent_change_from_baseline']\n",
    "corrDict['BR'] = covidGrouped.reset_index(drop = True)[mobilityColumns + ['increase']].corr()['increase'].drop('increase')\n",
    "\n",
    "for state in covidGrouped.index.levels[0]:\n",
    "    corrDict[state] = covidGrouped[mobilityColumns + ['increase']].loc[state].corr()['increase'].drop('increase')\n",
    "\n",
    "corrState = pd.DataFrame(corrDict).T"
   ]
  },
  {
   "cell_type": "code",
   "execution_count": 28,
   "metadata": {},
   "outputs": [
    {
     "data": {
      "text/html": [
       "<div>\n",
       "<style scoped>\n",
       "    .dataframe tbody tr th:only-of-type {\n",
       "        vertical-align: middle;\n",
       "    }\n",
       "\n",
       "    .dataframe tbody tr th {\n",
       "        vertical-align: top;\n",
       "    }\n",
       "\n",
       "    .dataframe thead th {\n",
       "        text-align: right;\n",
       "    }\n",
       "</style>\n",
       "<table border=\"1\" class=\"dataframe\">\n",
       "  <thead>\n",
       "    <tr style=\"text-align: right;\">\n",
       "      <th></th>\n",
       "      <th>retail_and_recreation_percent_change_from_baseline</th>\n",
       "      <th>grocery_and_pharmacy_percent_change_from_baseline</th>\n",
       "      <th>parks_percent_change_from_baseline</th>\n",
       "      <th>transit_stations_percent_change_from_baseline</th>\n",
       "      <th>workplaces_percent_change_from_baseline</th>\n",
       "      <th>residential_percent_change_from_baseline</th>\n",
       "    </tr>\n",
       "  </thead>\n",
       "  <tbody>\n",
       "    <tr>\n",
       "      <th>BR</th>\n",
       "      <td>0.567466</td>\n",
       "      <td>0.382389</td>\n",
       "      <td>0.444720</td>\n",
       "      <td>0.534150</td>\n",
       "      <td>0.514915</td>\n",
       "      <td>-0.550326</td>\n",
       "    </tr>\n",
       "    <tr>\n",
       "      <th>AC</th>\n",
       "      <td>0.856756</td>\n",
       "      <td>0.512868</td>\n",
       "      <td>0.886557</td>\n",
       "      <td>0.792884</td>\n",
       "      <td>0.838306</td>\n",
       "      <td>-0.856489</td>\n",
       "    </tr>\n",
       "    <tr>\n",
       "      <th>AL</th>\n",
       "      <td>0.590248</td>\n",
       "      <td>0.547488</td>\n",
       "      <td>0.656190</td>\n",
       "      <td>0.523091</td>\n",
       "      <td>0.557126</td>\n",
       "      <td>-0.602257</td>\n",
       "    </tr>\n",
       "    <tr>\n",
       "      <th>AM</th>\n",
       "      <td>0.906041</td>\n",
       "      <td>0.770167</td>\n",
       "      <td>0.857606</td>\n",
       "      <td>0.872426</td>\n",
       "      <td>0.835037</td>\n",
       "      <td>-0.874534</td>\n",
       "    </tr>\n",
       "    <tr>\n",
       "      <th>AP</th>\n",
       "      <td>0.849647</td>\n",
       "      <td>0.603498</td>\n",
       "      <td>0.807823</td>\n",
       "      <td>0.846296</td>\n",
       "      <td>0.866019</td>\n",
       "      <td>-0.872216</td>\n",
       "    </tr>\n",
       "    <tr>\n",
       "      <th>BA</th>\n",
       "      <td>0.559183</td>\n",
       "      <td>0.482184</td>\n",
       "      <td>0.558562</td>\n",
       "      <td>0.516100</td>\n",
       "      <td>0.496156</td>\n",
       "      <td>-0.525628</td>\n",
       "    </tr>\n",
       "    <tr>\n",
       "      <th>CE</th>\n",
       "      <td>0.929098</td>\n",
       "      <td>0.646313</td>\n",
       "      <td>0.848172</td>\n",
       "      <td>0.924966</td>\n",
       "      <td>0.912329</td>\n",
       "      <td>-0.922573</td>\n",
       "    </tr>\n",
       "    <tr>\n",
       "      <th>DF</th>\n",
       "      <td>0.913425</td>\n",
       "      <td>0.622895</td>\n",
       "      <td>0.787742</td>\n",
       "      <td>0.891726</td>\n",
       "      <td>0.907582</td>\n",
       "      <td>-0.907037</td>\n",
       "    </tr>\n",
       "    <tr>\n",
       "      <th>ES</th>\n",
       "      <td>0.822643</td>\n",
       "      <td>0.614466</td>\n",
       "      <td>0.757722</td>\n",
       "      <td>0.798496</td>\n",
       "      <td>0.744521</td>\n",
       "      <td>-0.778447</td>\n",
       "    </tr>\n",
       "    <tr>\n",
       "      <th>GO</th>\n",
       "      <td>0.734017</td>\n",
       "      <td>0.517430</td>\n",
       "      <td>0.615743</td>\n",
       "      <td>0.705798</td>\n",
       "      <td>0.671641</td>\n",
       "      <td>-0.730667</td>\n",
       "    </tr>\n",
       "    <tr>\n",
       "      <th>MA</th>\n",
       "      <td>0.826063</td>\n",
       "      <td>0.553794</td>\n",
       "      <td>0.729821</td>\n",
       "      <td>0.804968</td>\n",
       "      <td>0.820054</td>\n",
       "      <td>-0.804227</td>\n",
       "    </tr>\n",
       "    <tr>\n",
       "      <th>MG</th>\n",
       "      <td>0.923270</td>\n",
       "      <td>0.573101</td>\n",
       "      <td>0.843943</td>\n",
       "      <td>0.920885</td>\n",
       "      <td>0.867741</td>\n",
       "      <td>-0.900575</td>\n",
       "    </tr>\n",
       "    <tr>\n",
       "      <th>MS</th>\n",
       "      <td>0.736724</td>\n",
       "      <td>0.488934</td>\n",
       "      <td>0.755672</td>\n",
       "      <td>0.770353</td>\n",
       "      <td>0.714971</td>\n",
       "      <td>-0.776489</td>\n",
       "    </tr>\n",
       "    <tr>\n",
       "      <th>MT</th>\n",
       "      <td>0.661316</td>\n",
       "      <td>0.279649</td>\n",
       "      <td>0.596626</td>\n",
       "      <td>0.728480</td>\n",
       "      <td>0.572568</td>\n",
       "      <td>-0.676869</td>\n",
       "    </tr>\n",
       "    <tr>\n",
       "      <th>PA</th>\n",
       "      <td>0.927333</td>\n",
       "      <td>0.630512</td>\n",
       "      <td>0.907401</td>\n",
       "      <td>0.930146</td>\n",
       "      <td>0.936773</td>\n",
       "      <td>-0.947694</td>\n",
       "    </tr>\n",
       "    <tr>\n",
       "      <th>PB</th>\n",
       "      <td>0.836319</td>\n",
       "      <td>0.708747</td>\n",
       "      <td>0.828463</td>\n",
       "      <td>0.852736</td>\n",
       "      <td>0.785526</td>\n",
       "      <td>-0.821871</td>\n",
       "    </tr>\n",
       "    <tr>\n",
       "      <th>PE</th>\n",
       "      <td>0.639289</td>\n",
       "      <td>0.514210</td>\n",
       "      <td>0.696074</td>\n",
       "      <td>0.590668</td>\n",
       "      <td>0.420548</td>\n",
       "      <td>-0.544496</td>\n",
       "    </tr>\n",
       "    <tr>\n",
       "      <th>PI</th>\n",
       "      <td>0.837298</td>\n",
       "      <td>0.562038</td>\n",
       "      <td>0.784299</td>\n",
       "      <td>0.762982</td>\n",
       "      <td>0.758415</td>\n",
       "      <td>-0.822961</td>\n",
       "    </tr>\n",
       "    <tr>\n",
       "      <th>PR</th>\n",
       "      <td>0.819200</td>\n",
       "      <td>0.571242</td>\n",
       "      <td>0.819435</td>\n",
       "      <td>0.856122</td>\n",
       "      <td>0.767342</td>\n",
       "      <td>-0.812759</td>\n",
       "    </tr>\n",
       "    <tr>\n",
       "      <th>RJ</th>\n",
       "      <td>0.827979</td>\n",
       "      <td>0.684404</td>\n",
       "      <td>0.824176</td>\n",
       "      <td>0.809826</td>\n",
       "      <td>0.767584</td>\n",
       "      <td>-0.801544</td>\n",
       "    </tr>\n",
       "    <tr>\n",
       "      <th>RN</th>\n",
       "      <td>0.923071</td>\n",
       "      <td>0.754475</td>\n",
       "      <td>0.908027</td>\n",
       "      <td>0.938817</td>\n",
       "      <td>0.905055</td>\n",
       "      <td>-0.924282</td>\n",
       "    </tr>\n",
       "    <tr>\n",
       "      <th>RO</th>\n",
       "      <td>0.783005</td>\n",
       "      <td>0.434598</td>\n",
       "      <td>0.697594</td>\n",
       "      <td>0.791661</td>\n",
       "      <td>0.706767</td>\n",
       "      <td>-0.785618</td>\n",
       "    </tr>\n",
       "    <tr>\n",
       "      <th>RR</th>\n",
       "      <td>0.601064</td>\n",
       "      <td>0.136418</td>\n",
       "      <td>0.770185</td>\n",
       "      <td>0.807004</td>\n",
       "      <td>0.476549</td>\n",
       "      <td>-0.737111</td>\n",
       "    </tr>\n",
       "    <tr>\n",
       "      <th>RS</th>\n",
       "      <td>0.875108</td>\n",
       "      <td>0.631763</td>\n",
       "      <td>0.886413</td>\n",
       "      <td>0.897223</td>\n",
       "      <td>0.811368</td>\n",
       "      <td>-0.862427</td>\n",
       "    </tr>\n",
       "    <tr>\n",
       "      <th>SC</th>\n",
       "      <td>0.800894</td>\n",
       "      <td>0.675673</td>\n",
       "      <td>0.869751</td>\n",
       "      <td>0.892726</td>\n",
       "      <td>0.727275</td>\n",
       "      <td>-0.785960</td>\n",
       "    </tr>\n",
       "    <tr>\n",
       "      <th>SE</th>\n",
       "      <td>0.513800</td>\n",
       "      <td>0.279367</td>\n",
       "      <td>0.542354</td>\n",
       "      <td>0.467791</td>\n",
       "      <td>0.498373</td>\n",
       "      <td>-0.542391</td>\n",
       "    </tr>\n",
       "    <tr>\n",
       "      <th>SP</th>\n",
       "      <td>0.861915</td>\n",
       "      <td>0.596899</td>\n",
       "      <td>0.882180</td>\n",
       "      <td>0.840747</td>\n",
       "      <td>0.761349</td>\n",
       "      <td>-0.829870</td>\n",
       "    </tr>\n",
       "    <tr>\n",
       "      <th>TO</th>\n",
       "      <td>0.841140</td>\n",
       "      <td>0.542537</td>\n",
       "      <td>0.727372</td>\n",
       "      <td>0.820440</td>\n",
       "      <td>0.834634</td>\n",
       "      <td>-0.875856</td>\n",
       "    </tr>\n",
       "  </tbody>\n",
       "</table>\n",
       "</div>"
      ],
      "text/plain": [
       "    retail_and_recreation_percent_change_from_baseline  \\\n",
       "BR                                           0.567466    \n",
       "AC                                           0.856756    \n",
       "AL                                           0.590248    \n",
       "AM                                           0.906041    \n",
       "AP                                           0.849647    \n",
       "BA                                           0.559183    \n",
       "CE                                           0.929098    \n",
       "DF                                           0.913425    \n",
       "ES                                           0.822643    \n",
       "GO                                           0.734017    \n",
       "MA                                           0.826063    \n",
       "MG                                           0.923270    \n",
       "MS                                           0.736724    \n",
       "MT                                           0.661316    \n",
       "PA                                           0.927333    \n",
       "PB                                           0.836319    \n",
       "PE                                           0.639289    \n",
       "PI                                           0.837298    \n",
       "PR                                           0.819200    \n",
       "RJ                                           0.827979    \n",
       "RN                                           0.923071    \n",
       "RO                                           0.783005    \n",
       "RR                                           0.601064    \n",
       "RS                                           0.875108    \n",
       "SC                                           0.800894    \n",
       "SE                                           0.513800    \n",
       "SP                                           0.861915    \n",
       "TO                                           0.841140    \n",
       "\n",
       "    grocery_and_pharmacy_percent_change_from_baseline  \\\n",
       "BR                                           0.382389   \n",
       "AC                                           0.512868   \n",
       "AL                                           0.547488   \n",
       "AM                                           0.770167   \n",
       "AP                                           0.603498   \n",
       "BA                                           0.482184   \n",
       "CE                                           0.646313   \n",
       "DF                                           0.622895   \n",
       "ES                                           0.614466   \n",
       "GO                                           0.517430   \n",
       "MA                                           0.553794   \n",
       "MG                                           0.573101   \n",
       "MS                                           0.488934   \n",
       "MT                                           0.279649   \n",
       "PA                                           0.630512   \n",
       "PB                                           0.708747   \n",
       "PE                                           0.514210   \n",
       "PI                                           0.562038   \n",
       "PR                                           0.571242   \n",
       "RJ                                           0.684404   \n",
       "RN                                           0.754475   \n",
       "RO                                           0.434598   \n",
       "RR                                           0.136418   \n",
       "RS                                           0.631763   \n",
       "SC                                           0.675673   \n",
       "SE                                           0.279367   \n",
       "SP                                           0.596899   \n",
       "TO                                           0.542537   \n",
       "\n",
       "    parks_percent_change_from_baseline  \\\n",
       "BR                            0.444720   \n",
       "AC                            0.886557   \n",
       "AL                            0.656190   \n",
       "AM                            0.857606   \n",
       "AP                            0.807823   \n",
       "BA                            0.558562   \n",
       "CE                            0.848172   \n",
       "DF                            0.787742   \n",
       "ES                            0.757722   \n",
       "GO                            0.615743   \n",
       "MA                            0.729821   \n",
       "MG                            0.843943   \n",
       "MS                            0.755672   \n",
       "MT                            0.596626   \n",
       "PA                            0.907401   \n",
       "PB                            0.828463   \n",
       "PE                            0.696074   \n",
       "PI                            0.784299   \n",
       "PR                            0.819435   \n",
       "RJ                            0.824176   \n",
       "RN                            0.908027   \n",
       "RO                            0.697594   \n",
       "RR                            0.770185   \n",
       "RS                            0.886413   \n",
       "SC                            0.869751   \n",
       "SE                            0.542354   \n",
       "SP                            0.882180   \n",
       "TO                            0.727372   \n",
       "\n",
       "    transit_stations_percent_change_from_baseline  \\\n",
       "BR                                       0.534150   \n",
       "AC                                       0.792884   \n",
       "AL                                       0.523091   \n",
       "AM                                       0.872426   \n",
       "AP                                       0.846296   \n",
       "BA                                       0.516100   \n",
       "CE                                       0.924966   \n",
       "DF                                       0.891726   \n",
       "ES                                       0.798496   \n",
       "GO                                       0.705798   \n",
       "MA                                       0.804968   \n",
       "MG                                       0.920885   \n",
       "MS                                       0.770353   \n",
       "MT                                       0.728480   \n",
       "PA                                       0.930146   \n",
       "PB                                       0.852736   \n",
       "PE                                       0.590668   \n",
       "PI                                       0.762982   \n",
       "PR                                       0.856122   \n",
       "RJ                                       0.809826   \n",
       "RN                                       0.938817   \n",
       "RO                                       0.791661   \n",
       "RR                                       0.807004   \n",
       "RS                                       0.897223   \n",
       "SC                                       0.892726   \n",
       "SE                                       0.467791   \n",
       "SP                                       0.840747   \n",
       "TO                                       0.820440   \n",
       "\n",
       "    workplaces_percent_change_from_baseline  \\\n",
       "BR                                 0.514915   \n",
       "AC                                 0.838306   \n",
       "AL                                 0.557126   \n",
       "AM                                 0.835037   \n",
       "AP                                 0.866019   \n",
       "BA                                 0.496156   \n",
       "CE                                 0.912329   \n",
       "DF                                 0.907582   \n",
       "ES                                 0.744521   \n",
       "GO                                 0.671641   \n",
       "MA                                 0.820054   \n",
       "MG                                 0.867741   \n",
       "MS                                 0.714971   \n",
       "MT                                 0.572568   \n",
       "PA                                 0.936773   \n",
       "PB                                 0.785526   \n",
       "PE                                 0.420548   \n",
       "PI                                 0.758415   \n",
       "PR                                 0.767342   \n",
       "RJ                                 0.767584   \n",
       "RN                                 0.905055   \n",
       "RO                                 0.706767   \n",
       "RR                                 0.476549   \n",
       "RS                                 0.811368   \n",
       "SC                                 0.727275   \n",
       "SE                                 0.498373   \n",
       "SP                                 0.761349   \n",
       "TO                                 0.834634   \n",
       "\n",
       "    residential_percent_change_from_baseline  \n",
       "BR                                 -0.550326  \n",
       "AC                                 -0.856489  \n",
       "AL                                 -0.602257  \n",
       "AM                                 -0.874534  \n",
       "AP                                 -0.872216  \n",
       "BA                                 -0.525628  \n",
       "CE                                 -0.922573  \n",
       "DF                                 -0.907037  \n",
       "ES                                 -0.778447  \n",
       "GO                                 -0.730667  \n",
       "MA                                 -0.804227  \n",
       "MG                                 -0.900575  \n",
       "MS                                 -0.776489  \n",
       "MT                                 -0.676869  \n",
       "PA                                 -0.947694  \n",
       "PB                                 -0.821871  \n",
       "PE                                 -0.544496  \n",
       "PI                                 -0.822961  \n",
       "PR                                 -0.812759  \n",
       "RJ                                 -0.801544  \n",
       "RN                                 -0.924282  \n",
       "RO                                 -0.785618  \n",
       "RR                                 -0.737111  \n",
       "RS                                 -0.862427  \n",
       "SC                                 -0.785960  \n",
       "SE                                 -0.542391  \n",
       "SP                                 -0.829870  \n",
       "TO                                 -0.875856  "
      ]
     },
     "execution_count": 28,
     "metadata": {},
     "output_type": "execute_result"
    }
   ],
   "source": [
    "corrState"
   ]
  },
  {
   "cell_type": "code",
   "execution_count": 29,
   "metadata": {},
   "outputs": [
    {
     "data": {
      "text/plain": [
       "<matplotlib.collections.PathCollection at 0x7fa49cdbac50>"
      ]
     },
     "execution_count": 29,
     "metadata": {},
     "output_type": "execute_result"
    },
    {
     "data": {
      "image/png": "[encoded data removed]",
      "text/plain": [
       "<Figure size 432x288 with 1 Axes>"
      ]
     },
     "metadata": {
      "needs_background": "light"
     },
     "output_type": "display_data"
    }
   ],
   "source": [
    "state = 'AP'\n",
    "\n",
    "x = covidGrouped.loc[state, 'transit_stations_percent_change_from_baseline']\n",
    "y = covidGrouped.loc[state].increase\n",
    "\n",
    "plt.scatter(x, y)"
   ]
  },
  {
   "cell_type": "code",
   "execution_count": 35,
   "metadata": {},
   "outputs": [
    {
     "data": {
      "text/plain": [
       "<matplotlib.collections.PathCollection at 0x7fa49cc33890>"
      ]
     },
     "execution_count": 35,
     "metadata": {},
     "output_type": "execute_result"
    },
    {
     "data": {
      "image/png": "[encoded data removed]",
      "text/plain": [
       "<Figure size 432x288 with 1 Axes>"
      ]
     },
     "metadata": {
      "needs_background": "light"
     },
     "output_type": "display_data"
    }
   ],
   "source": [
    "x = covidGrouped.reset_index()['workplaces_percent_change_from_baseline']\n",
    "y = covidGrouped.reset_index().increase*100\n",
    "\n",
    "plt.scatter(x, y)"
   ]
  },
  {
   "cell_type": "code",
   "execution_count": null,
   "metadata": {},
   "outputs": [],
   "source": []
  }
 ],
 "metadata": {
  "kernelspec": {
   "display_name": "Python 3",
   "language": "python",
   "name": "python3"
  },
  "language_info": {
   "codemirror_mode": {
    "name": "ipython",
    "version": 3
   },
   "file_extension": ".py",
   "mimetype": "text/x-python",
   "name": "python",
   "nbconvert_exporter": "python",
   "pygments_lexer": "ipython3",
   "version": "3.7.6"
  }
 },
 "nbformat": 4,
 "nbformat_minor": 4
}
