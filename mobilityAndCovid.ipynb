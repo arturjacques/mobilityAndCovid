{
 "cells": [
  {
   "cell_type": "code",
   "execution_count": 26,
   "metadata": {},
   "outputs": [],
   "source": [
    "import pandas as pd"
   ]
  },
  {
   "cell_type": "markdown",
   "metadata": {},
   "source": [
    "### loading and cleaning Global_Mobilty_report.csv"
   ]
  },
  {
   "cell_type": "code",
   "execution_count": 37,
   "metadata": {},
   "outputs": [],
   "source": [
    "globalMobility = pd.read_csv('Global_Mobility_Report.csv', low_memory = False)"
   ]
  },
  {
   "cell_type": "code",
   "execution_count": 38,
   "metadata": {},
   "outputs": [
    {
     "name": "stdout",
     "output_type": "stream",
     "text": [
      "<class 'pandas.core.frame.DataFrame'>\n",
      "RangeIndex: 458565 entries, 0 to 458564\n",
      "Data columns (total 11 columns):\n",
      " #   Column                                              Non-Null Count   Dtype  \n",
      "---  ------                                              --------------   -----  \n",
      " 0   country_region_code                                 457777 non-null  object \n",
      " 1   country_region                                      458565 non-null  object \n",
      " 2   sub_region_1                                        445233 non-null  object \n",
      " 3   sub_region_2                                        265611 non-null  object \n",
      " 4   date                                                458565 non-null  object \n",
      " 5   retail_and_recreation_percent_change_from_baseline  358425 non-null  float64\n",
      " 6   grocery_and_pharmacy_percent_change_from_baseline   345821 non-null  float64\n",
      " 7   parks_percent_change_from_baseline                  212781 non-null  float64\n",
      " 8   transit_stations_percent_change_from_baseline       244044 non-null  float64\n",
      " 9   workplaces_percent_change_from_baseline             445735 non-null  float64\n",
      " 10  residential_percent_change_from_baseline            251216 non-null  float64\n",
      "dtypes: float64(6), object(5)\n",
      "memory usage: 38.5+ MB\n"
     ]
    }
   ],
   "source": [
    "globalMobility.info()"
   ]
  },
  {
   "cell_type": "code",
   "execution_count": 39,
   "metadata": {},
   "outputs": [],
   "source": [
    "# selecting only the data of Brazil\n",
    "globMobBr = globalMobility[globalMobility.country_region_code == 'BR']\n",
    "\n",
    "# removing globalMobility from the memory\n",
    "del globalMobility \n",
    "\n",
    "# removing columns of country from the data frame after selection\n",
    "globMobBr.drop(['country_region_code', 'country_region'], inplace = True, axis = 1)"
   ]
  },
  {
   "cell_type": "code",
   "execution_count": 48,
   "metadata": {},
   "outputs": [
    {
     "name": "stdout",
     "output_type": "stream",
     "text": [
      "<class 'pandas.core.frame.DataFrame'>\n",
      "Int64Index: 2828 entries, 12791 to 15618\n",
      "Data columns (total 9 columns):\n",
      " #   Column                                              Non-Null Count  Dtype  \n",
      "---  ------                                              --------------  -----  \n",
      " 0   sub_region_1                                        2727 non-null   object \n",
      " 1   sub_region_2                                        0 non-null      object \n",
      " 2   date                                                2828 non-null   object \n",
      " 3   retail_and_recreation_percent_change_from_baseline  2828 non-null   float64\n",
      " 4   grocery_and_pharmacy_percent_change_from_baseline   2828 non-null   float64\n",
      " 5   parks_percent_change_from_baseline                  2828 non-null   float64\n",
      " 6   transit_stations_percent_change_from_baseline       2828 non-null   float64\n",
      " 7   workplaces_percent_change_from_baseline             2828 non-null   float64\n",
      " 8   residential_percent_change_from_baseline            2828 non-null   float64\n",
      "dtypes: float64(6), object(3)\n",
      "memory usage: 220.9+ KB\n"
     ]
    }
   ],
   "source": [
    "globMobBr.info()"
   ]
  },
  {
   "cell_type": "markdown",
   "metadata": {},
   "source": [
    "sub_region_1 refers to the state of Brasil and sub_region_2 for brasil do not have data."
   ]
  },
  {
   "cell_type": "code",
   "execution_count": 53,
   "metadata": {},
   "outputs": [],
   "source": [
    "# changing the name of the sub_region_1 column to state\n",
    "globMobBr.rename({'sub_region_1':'state'}, axis = 1, inplace = True)\n",
    "\n",
    "# removing column empty\n",
    "globMobBr.drop(['sub_region_2'], axis = 1, inplace = True)"
   ]
  },
  {
   "cell_type": "code",
   "execution_count": 73,
   "metadata": {},
   "outputs": [
    {
     "name": "stdout",
     "output_type": "stream",
     "text": [
      "<class 'pandas.core.frame.DataFrame'>\n",
      "Int64Index: 2828 entries, 12791 to 15618\n",
      "Data columns (total 8 columns):\n",
      " #   Column                                              Non-Null Count  Dtype  \n",
      "---  ------                                              --------------  -----  \n",
      " 0   state                                               2727 non-null   object \n",
      " 1   date                                                2828 non-null   object \n",
      " 2   retail_and_recreation_percent_change_from_baseline  2828 non-null   float64\n",
      " 3   grocery_and_pharmacy_percent_change_from_baseline   2828 non-null   float64\n",
      " 4   parks_percent_change_from_baseline                  2828 non-null   float64\n",
      " 5   transit_stations_percent_change_from_baseline       2828 non-null   float64\n",
      " 6   workplaces_percent_change_from_baseline             2828 non-null   float64\n",
      " 7   residential_percent_change_from_baseline            2828 non-null   float64\n",
      "dtypes: float64(6), object(2)\n",
      "memory usage: 198.8+ KB\n"
     ]
    }
   ],
   "source": [
    "globMobBr.info()"
   ]
  },
  {
   "cell_type": "code",
   "execution_count": null,
   "metadata": {},
   "outputs": [],
   "source": [
    "### loading and cleaning Global_Mobilty_report.csv"
   ]
  }
 ],
 "metadata": {
  "kernelspec": {
   "display_name": "Python 3",
   "language": "python",
   "name": "python3"
  },
  "language_info": {
   "codemirror_mode": {
    "name": "ipython",
    "version": 3
   },
   "file_extension": ".py",
   "mimetype": "text/x-python",
   "name": "python",
   "nbconvert_exporter": "python",
   "pygments_lexer": "ipython3",
   "version": "3.7.6"
  }
 },
 "nbformat": 4,
 "nbformat_minor": 4
}
